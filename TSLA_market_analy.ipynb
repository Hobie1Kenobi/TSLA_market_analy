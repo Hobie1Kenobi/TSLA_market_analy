{
 "cells": [
  {
   "cell_type": "code",
   "execution_count": 2,
   "id": "d7ef98db-7e0d-4d1f-ac15-8d50c6ea13c8",
   "metadata": {},
   "outputs": [
    {
     "data": {
      "application/vnd.jupyter.widget-view+json": {
       "model_id": "7220fc67e20f421cafb0d5b1973db6e9",
       "version_major": 2,
       "version_minor": 0
      },
      "text/plain": [
       "App(children=[IconRowTop(children=(ButtonIcon(icon='arrows-h', layout=Layout(height='35px', width='35px'), sty…"
      ]
     },
     "metadata": {},
     "output_type": "display_data"
    },
    {
     "data": {
      "application/vnd.jupyter.widget-view+json": {
       "model_id": "e5001e383b274c2989f39cc71a1ab5e4",
       "version_major": 2,
       "version_minor": 0
      },
      "text/plain": [
       "App(children=[IconRowTop(children=(ButtonIcon(icon='arrows-h', layout=Layout(height='35px', width='35px'), sty…"
      ]
     },
     "metadata": {},
     "output_type": "display_data"
    },
    {
     "data": {
      "application/vnd.jupyter.widget-view+json": {
       "model_id": "e7f2ddb30c194e68abdcb5105105875f",
       "version_major": 2,
       "version_minor": 0
      },
      "text/plain": [
       "App(children=[IconRowTop(children=(ButtonIcon(icon='arrows-h', layout=Layout(height='35px', width='35px'), sty…"
      ]
     },
     "metadata": {},
     "output_type": "display_data"
    },
    {
     "data": {
      "application/vnd.jupyter.widget-view+json": {
       "model_id": "fab6076098954da6b143a4f28b071f04",
       "version_major": 2,
       "version_minor": 0
      },
      "text/plain": [
       "App(children=[IconRowTop(children=(ButtonIcon(icon='arrows-h', layout=Layout(height='35px', width='35px'), sty…"
      ]
     },
     "metadata": {},
     "output_type": "display_data"
    }
   ],
   "source": [
    "from market_prices import PricesYahoo\n",
    "from market_analy import Analysis\n",
    "\n",
    "# Fetch Tesla stock prices\n",
    "prices = PricesYahoo(\"TSLA\")\n",
    "# OR if Yahoo API endpoints are not currently available in your region...\n",
    "# prices = PricesYahoo(\"TSLA\", calendars=\"XNYS\", delays=0)\n",
    "analy = Analysis(prices)\n",
    "\n",
    "# Plot the last 18 months of data\n",
    "gui = analy.plot(months=18)\n",
    "\n",
    "trend_kwargs = {\n",
    "    \"prd\": 60,\n",
    "    \"ext_break\": 0.05,\n",
    "    \"ext_limit\": 0.03,\n",
    "    \"min_bars\": 5,\n",
    "}\n",
    "\n",
    "# Generate trend chart for Tesla stock\n",
    "gui = analy.trends_chart(\n",
    "    \"1D\",\n",
    "    trend_kwargs,\n",
    "    years=3,\n",
    ")\n",
    "from market_analy import Compare\n",
    "\n",
    "# Compare Tesla, Microsoft, and Amazon\n",
    "comp = Compare(PricesYahoo(\"TSLA, MSFT, AMZN\"))\n",
    "# OR if Yahoo API endpoints are not currently available in your region...\n",
    "# comp = Compare(PricesYahoo(\"TSLA, MSFT, AMZN\", calendars=\"XNYS\", delays=0))\n",
    "\n",
    "# Plot the comparison over 30 hours\n",
    "gui = comp.plot(hours=30)\n",
    "# Change over every 20-minute interval for Tesla over 5 days\n",
    "gui = analy.chg_every_interval(\"20T\", days=5, chart=True)\n"
   ]
  },
  {
   "cell_type": "code",
   "execution_count": null,
   "id": "1af1ba52-5fe5-45ca-a794-c73cb40ef34c",
   "metadata": {},
   "outputs": [],
   "source": []
  }
 ],
 "metadata": {
  "kernelspec": {
   "display_name": "Market Analy Environment",
   "language": "python",
   "name": "market_analy"
  },
  "language_info": {
   "codemirror_mode": {
    "name": "ipython",
    "version": 3
   },
   "file_extension": ".py",
   "mimetype": "text/x-python",
   "name": "python",
   "nbconvert_exporter": "python",
   "pygments_lexer": "ipython3",
   "version": "3.11.9"
  }
 },
 "nbformat": 4,
 "nbformat_minor": 5
}
